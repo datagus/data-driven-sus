{
 "cells": [
  {
   "cell_type": "markdown",
   "id": "9d94a657-f690-49ea-94d7-e5f46580427d",
   "metadata": {},
   "source": [
    "# Week 3 - 28.10.2024 "
   ]
  },
  {
   "cell_type": "markdown",
   "id": "129818d9-bc53-4c44-8577-5ed96c47c7bd",
   "metadata": {},
   "source": [
    "## For loops"
   ]
  },
  {
   "cell_type": "markdown",
   "id": "7711ee51-81a5-430d-90b5-1848694fce5d",
   "metadata": {},
   "source": [
    "Take example of this person who has **six** first names.\n",
    "We store the name into the variable <code>first_name</code>"
   ]
  },
  {
   "cell_type": "code",
   "execution_count": 1,
   "id": "d3901c5a-98cf-4b81-826d-d6492fbe2c7a",
   "metadata": {},
   "outputs": [],
   "source": [
    "first_name = \"David Gustavo Rodrigo Tim Brad Christian\""
   ]
  },
  {
   "cell_type": "markdown",
   "id": "0b6b153d-67f8-4fc3-9aa3-c3f6c137c88e",
   "metadata": {},
   "source": [
    "To get each sub-name from the names above, we have to split the string variable using <code>.split(\" \")</code>.\n",
    "Note that **\" \"** is the argument, so you are telling Python to separate the string based on the white spaces"
   ]
  },
  {
   "cell_type": "code",
   "execution_count": 3,
   "id": "0545fa8f-6219-45f2-805d-b4b32618669e",
   "metadata": {},
   "outputs": [
    {
     "name": "stdout",
     "output_type": "stream",
     "text": [
      "['David', 'Gustavo', 'Rodrigo', 'Tim', 'Brad', 'Christian']\n"
     ]
    }
   ],
   "source": [
    "names = first_name.split(\" \")\n",
    "print(names)"
   ]
  },
  {
   "cell_type": "markdown",
   "id": "e25c4233-9316-4046-9b64-3516231e1e85",
   "metadata": {},
   "source": [
    "Now, you have to get the first letter of each name, for example, \"D\" from \"David\", \"G\" from \"Gustavo, etc. You can do it like this:"
   ]
  },
  {
   "cell_type": "code",
   "execution_count": 6,
   "id": "34318536-d4a8-4a91-919a-d1cb09511234",
   "metadata": {},
   "outputs": [
    {
     "name": "stdout",
     "output_type": "stream",
     "text": [
      "D\n",
      "G\n",
      "R\n",
      "T\n",
      "B\n",
      "C\n"
     ]
    }
   ],
   "source": [
    "print(names[0][0])\n",
    "print(names[1][0])\n",
    "print(names[2][0])\n",
    "print(names[3][0])\n",
    "print(names[4][0])\n",
    "print(names[5][0])"
   ]
  },
  {
   "cell_type": "markdown",
   "id": "7323177a-de20-4b0d-9761-b9ae35df3a53",
   "metadata": {},
   "source": [
    "You can do it more efficiently with a <code>for</code> loop."
   ]
  },
  {
   "cell_type": "code",
   "execution_count": 7,
   "id": "669b3191-0e6f-4e42-b20f-22b826874c86",
   "metadata": {},
   "outputs": [
    {
     "name": "stdout",
     "output_type": "stream",
     "text": [
      "D\n",
      "G\n",
      "R\n",
      "T\n",
      "B\n",
      "C\n"
     ]
    }
   ],
   "source": [
    "for name in names:\n",
    "    print(name[0])\n",
    "#note that we only are using one index and not name[0][0]"
   ]
  },
  {
   "cell_type": "code",
   "execution_count": 8,
   "id": "711066c0-510b-46fd-81c0-d2e0fda11b35",
   "metadata": {},
   "outputs": [
    {
     "name": "stdout",
     "output_type": "stream",
     "text": [
      "d\n",
      "g\n",
      "r\n",
      "t\n",
      "b\n",
      "c\n"
     ]
    }
   ],
   "source": [
    "#you can do whatever you want inside the loop\n",
    "for name in names:\n",
    "    print(name[0].lower())"
   ]
  },
  {
   "cell_type": "markdown",
   "id": "ab3aa215-a402-45d0-8428-f0f4eec491e7",
   "metadata": {},
   "source": [
    "You can also create a list to store these first letters of each names. Check the cell below:"
   ]
  },
  {
   "cell_type": "code",
   "execution_count": 9,
   "id": "0ab53c1b-d265-4874-a935-70bccce60e4e",
   "metadata": {},
   "outputs": [
    {
     "name": "stdout",
     "output_type": "stream",
     "text": [
      "['d', 'g', 'r', 't', 'b', 'c']\n"
     ]
    }
   ],
   "source": [
    "#First create an empty list:\n",
    "first_letters = []\n",
    "for name in names:\n",
    "    letter = name[0].lower()\n",
    "    first_letters.append(letter)    #use method append to add the elements to the list\n",
    "\n",
    "print(first_letters)"
   ]
  },
  {
   "cell_type": "markdown",
   "id": "954b533d-4d2a-4fed-90a5-8e8f98608d9f",
   "metadata": {},
   "source": [
    "## Dictionaries"
   ]
  },
  {
   "cell_type": "markdown",
   "id": "72e488c7-72aa-459f-808c-2e2c2b3d80bb",
   "metadata": {},
   "source": [
    "Imagine you want to calculate the difference of months. For example, substracting January (month number 1) from October (month number 10)"
   ]
  },
  {
   "cell_type": "code",
   "execution_count": 10,
   "id": "717c03f9-dcff-4700-9b44-b732eebffbf0",
   "metadata": {},
   "outputs": [
    {
     "name": "stdin",
     "output_type": "stream",
     "text": [
      "give me the month when you were born:  January\n"
     ]
    }
   ],
   "source": [
    "month_born = input(\"give me the month when you were born: \")\n",
    "month_born = month_born.lower()"
   ]
  },
  {
   "cell_type": "markdown",
   "id": "44a4fe70-4fb5-4d6e-b79a-368042de31db",
   "metadata": {},
   "source": [
    "As you can see, the user gave you \"January\" and not \"1\", you need a dictionary where Python can look up the relation between the name of the month and the number of the month"
   ]
  },
  {
   "cell_type": "code",
   "execution_count": 13,
   "id": "431a528e-f315-4a64-8b1d-c9a1b752dafc",
   "metadata": {},
   "outputs": [],
   "source": [
    "months = {\n",
    "    \"january\": 1,\n",
    "    \"february\": 2,\n",
    "    \"march\": 3,\n",
    "    \"april\": 4,\n",
    "    \"may\": 5, \n",
    "    \"june\": 6,\n",
    "    \"july\": 7,\n",
    "    \"august\": 8,\n",
    "    \"september\": 9,\n",
    "    \"october\": 10,\n",
    "    \"november\": 11,\n",
    "    \"december\": 12\n",
    "}"
   ]
  },
  {
   "cell_type": "markdown",
   "id": "b9e8d902-15e9-4412-a72f-61b4b5624016",
   "metadata": {},
   "source": [
    "You use the dictionary as follows:"
   ]
  },
  {
   "cell_type": "code",
   "execution_count": 14,
   "id": "81854985-7670-41b7-88f6-aa37973f1a74",
   "metadata": {},
   "outputs": [
    {
     "data": {
      "text/plain": [
       "1"
      ]
     },
     "execution_count": 14,
     "metadata": {},
     "output_type": "execute_result"
    }
   ],
   "source": [
    "months[\"january\"]"
   ]
  },
  {
   "cell_type": "markdown",
   "id": "319f95f8-5d9d-41a0-8467-1b33ca974315",
   "metadata": {},
   "source": [
    "### Exercise in class - solutionx\n",
    "Create a dictionary where you can know the names of the sustainable development goals (sdgs) based on their numbers"
   ]
  },
  {
   "cell_type": "code",
   "execution_count": 15,
   "id": "7cb6583f-e383-4ba3-833c-307bfe56b1d6",
   "metadata": {},
   "outputs": [],
   "source": [
    "sdgs_dictionary = {\n",
    "\n",
    "   \"1\": \"No Poverty\",\n",
    "    \"2\": \"Zero Hunger\",\n",
    "    \"3\": \"Good Health and Well-being\",\n",
    "    \"4\": \"Quality Education\",\n",
    "    \"5\": \"Gender Equality\",\n",
    "    \"6\": \"Clean Water and Sanitation\",\n",
    "    \"7\": \"Affordable and Clean Energy\",\n",
    "    \"8\": \"Decent Work and Economic Growth\",\n",
    "    \"9\": \"Industry, Innovation, and Infrastructure\",\n",
    "    \"10\": \"Reduced Inequalities\",\n",
    "    \"11\": \"Sustainable Cities and Communities\",\n",
    "    \"12\": \"Responsible Consumption and Production\",\n",
    "    \"13\": \"Climate Action\",\n",
    "    \"14\": \"Life Below Water\",\n",
    "    \"15\": \"Life on Land\",\n",
    "    \"16\": \"Peace, Justice, and Strong Institutions\",\n",
    "    \"17\": \"Partnerships for the Goals\"\n",
    "}"
   ]
  },
  {
   "cell_type": "code",
   "execution_count": 16,
   "id": "f7373833-745d-446d-bc9a-2e2b345e99fe",
   "metadata": {},
   "outputs": [
    {
     "data": {
      "text/plain": [
       "'Peace, Justice, and Strong Institutions'"
      ]
     },
     "execution_count": 16,
     "metadata": {},
     "output_type": "execute_result"
    }
   ],
   "source": [
    "sdgs_dictionary[\"16\"]"
   ]
  },
  {
   "cell_type": "markdown",
   "id": "68fe1fb2-7b9f-4516-ae9a-c29a6a2419b5",
   "metadata": {},
   "source": [
    "## From dictionaries to dataframesx"
   ]
  },
  {
   "cell_type": "code",
   "execution_count": 18,
   "id": "c153795b-d37c-46b5-8266-8c16d6a392eb",
   "metadata": {},
   "outputs": [],
   "source": [
    "#one lists with the sdg_numbers and another with their respective names\n",
    "sdg_numbers = [\n",
    "    1, 2, 3, 4, 5, 6, 7, 8, 9, \n",
    "    10, 11, 12, 13, 14, 15, 16, 17\n",
    "]\n",
    "\n",
    "sdg_names = [\n",
    "    \"No Poverty\",\n",
    "    \"Zero Hunger\",\n",
    "    \"Good Health and Well-being\",\n",
    "    \"Quality Education\",\n",
    "    \"Gender Equality\",\n",
    "    \"Clean Water and Sanitation\",\n",
    "    \"Affordable and Clean Energy\",\n",
    "    \"Decent Work and Economic Growth\",\n",
    "    \"Industry, Innovation, and Infrastructure\",\n",
    "    \"Reduced Inequalities\",\n",
    "    \"Sustainable Cities and Communities\",\n",
    "    \"Responsible Consumption and Production\",\n",
    "    \"Climate Action\",\n",
    "    \"Life Below Water\",\n",
    "    \"Life on Land\",\n",
    "    \"Peace, Justice, and Strong Institutions\",\n",
    "    \"Partnerships for the Goals\"\n",
    "]"
   ]
  },
  {
   "cell_type": "markdown",
   "id": "1360c907-8e05-40bb-89b0-ab6d993d7766",
   "metadata": {},
   "source": [
    "Creating the dictionary"
   ]
  },
  {
   "cell_type": "code",
   "execution_count": 21,
   "id": "3b0d8828-1adb-4eec-9628-66a4b41e262e",
   "metadata": {},
   "outputs": [],
   "source": [
    "sdg_dict = {\n",
    "    \"sdg_number\": sdg_numbers,\n",
    "    \"sdg_name\": sdg_names\n",
    "}"
   ]
  },
  {
   "cell_type": "code",
   "execution_count": 22,
   "id": "d531727e-efe0-4905-8ad1-c15cd36d2df7",
   "metadata": {},
   "outputs": [
    {
     "data": {
      "text/plain": [
       "{'sdg_number': [1, 2, 3, 4, 5, 6, 7, 8, 9, 10, 11, 12, 13, 14, 15, 16, 17],\n",
       " 'sdg_name': ['No Poverty',\n",
       "  'Zero Hunger',\n",
       "  'Good Health and Well-being',\n",
       "  'Quality Education',\n",
       "  'Gender Equality',\n",
       "  'Clean Water and Sanitation',\n",
       "  'Affordable and Clean Energy',\n",
       "  'Decent Work and Economic Growth',\n",
       "  'Industry, Innovation, and Infrastructure',\n",
       "  'Reduced Inequalities',\n",
       "  'Sustainable Cities and Communities',\n",
       "  'Responsible Consumption and Production',\n",
       "  'Climate Action',\n",
       "  'Life Below Water',\n",
       "  'Life on Land',\n",
       "  'Peace, Justice, and Strong Institutions',\n",
       "  'Partnerships for the Goals']}"
      ]
     },
     "execution_count": 22,
     "metadata": {},
     "output_type": "execute_result"
    }
   ],
   "source": [
    "sdg_dict"
   ]
  },
  {
   "cell_type": "markdown",
   "id": "18b8d543-9520-4571-bb10-a9df991b4600",
   "metadata": {},
   "source": [
    "Now we have to import the package/library **Package for Analysis of Data in Python\" or \"Pandas\""
   ]
  },
  {
   "cell_type": "code",
   "execution_count": 23,
   "id": "31a6ca40-4b0f-4968-88cd-45caa6344f21",
   "metadata": {},
   "outputs": [],
   "source": [
    "import pandas as pd\n",
    "sdgs_df = pd.DataFrame(sdg_dict) #function to create dictionary"
   ]
  },
  {
   "cell_type": "code",
   "execution_count": 25,
   "id": "3cc84398-5f00-4549-827f-673c1e89397a",
   "metadata": {},
   "outputs": [
    {
     "data": {
      "text/html": [
       "<div>\n",
       "<style scoped>\n",
       "    .dataframe tbody tr th:only-of-type {\n",
       "        vertical-align: middle;\n",
       "    }\n",
       "\n",
       "    .dataframe tbody tr th {\n",
       "        vertical-align: top;\n",
       "    }\n",
       "\n",
       "    .dataframe thead th {\n",
       "        text-align: right;\n",
       "    }\n",
       "</style>\n",
       "<table border=\"1\" class=\"dataframe\">\n",
       "  <thead>\n",
       "    <tr style=\"text-align: right;\">\n",
       "      <th></th>\n",
       "      <th>sdg_number</th>\n",
       "      <th>sdg_name</th>\n",
       "    </tr>\n",
       "  </thead>\n",
       "  <tbody>\n",
       "    <tr>\n",
       "      <th>0</th>\n",
       "      <td>1</td>\n",
       "      <td>No Poverty</td>\n",
       "    </tr>\n",
       "    <tr>\n",
       "      <th>1</th>\n",
       "      <td>2</td>\n",
       "      <td>Zero Hunger</td>\n",
       "    </tr>\n",
       "    <tr>\n",
       "      <th>2</th>\n",
       "      <td>3</td>\n",
       "      <td>Good Health and Well-being</td>\n",
       "    </tr>\n",
       "    <tr>\n",
       "      <th>3</th>\n",
       "      <td>4</td>\n",
       "      <td>Quality Education</td>\n",
       "    </tr>\n",
       "    <tr>\n",
       "      <th>4</th>\n",
       "      <td>5</td>\n",
       "      <td>Gender Equality</td>\n",
       "    </tr>\n",
       "    <tr>\n",
       "      <th>5</th>\n",
       "      <td>6</td>\n",
       "      <td>Clean Water and Sanitation</td>\n",
       "    </tr>\n",
       "    <tr>\n",
       "      <th>6</th>\n",
       "      <td>7</td>\n",
       "      <td>Affordable and Clean Energy</td>\n",
       "    </tr>\n",
       "    <tr>\n",
       "      <th>7</th>\n",
       "      <td>8</td>\n",
       "      <td>Decent Work and Economic Growth</td>\n",
       "    </tr>\n",
       "    <tr>\n",
       "      <th>8</th>\n",
       "      <td>9</td>\n",
       "      <td>Industry, Innovation, and Infrastructure</td>\n",
       "    </tr>\n",
       "    <tr>\n",
       "      <th>9</th>\n",
       "      <td>10</td>\n",
       "      <td>Reduced Inequalities</td>\n",
       "    </tr>\n",
       "    <tr>\n",
       "      <th>10</th>\n",
       "      <td>11</td>\n",
       "      <td>Sustainable Cities and Communities</td>\n",
       "    </tr>\n",
       "    <tr>\n",
       "      <th>11</th>\n",
       "      <td>12</td>\n",
       "      <td>Responsible Consumption and Production</td>\n",
       "    </tr>\n",
       "    <tr>\n",
       "      <th>12</th>\n",
       "      <td>13</td>\n",
       "      <td>Climate Action</td>\n",
       "    </tr>\n",
       "    <tr>\n",
       "      <th>13</th>\n",
       "      <td>14</td>\n",
       "      <td>Life Below Water</td>\n",
       "    </tr>\n",
       "    <tr>\n",
       "      <th>14</th>\n",
       "      <td>15</td>\n",
       "      <td>Life on Land</td>\n",
       "    </tr>\n",
       "    <tr>\n",
       "      <th>15</th>\n",
       "      <td>16</td>\n",
       "      <td>Peace, Justice, and Strong Institutions</td>\n",
       "    </tr>\n",
       "    <tr>\n",
       "      <th>16</th>\n",
       "      <td>17</td>\n",
       "      <td>Partnerships for the Goals</td>\n",
       "    </tr>\n",
       "  </tbody>\n",
       "</table>\n",
       "</div>"
      ],
      "text/plain": [
       "    sdg_number                                  sdg_name\n",
       "0            1                                No Poverty\n",
       "1            2                               Zero Hunger\n",
       "2            3                Good Health and Well-being\n",
       "3            4                         Quality Education\n",
       "4            5                           Gender Equality\n",
       "5            6                Clean Water and Sanitation\n",
       "6            7               Affordable and Clean Energy\n",
       "7            8           Decent Work and Economic Growth\n",
       "8            9  Industry, Innovation, and Infrastructure\n",
       "9           10                      Reduced Inequalities\n",
       "10          11        Sustainable Cities and Communities\n",
       "11          12    Responsible Consumption and Production\n",
       "12          13                            Climate Action\n",
       "13          14                          Life Below Water\n",
       "14          15                              Life on Land\n",
       "15          16   Peace, Justice, and Strong Institutions\n",
       "16          17                Partnerships for the Goals"
      ]
     },
     "execution_count": 25,
     "metadata": {},
     "output_type": "execute_result"
    }
   ],
   "source": [
    "# contemplate the beauty of a dataframe\n",
    "sdgs_df"
   ]
  }
 ],
 "metadata": {
  "kernelspec": {
   "display_name": "myfirstcode",
   "language": "python",
   "name": "my_first_code"
  },
  "language_info": {
   "codemirror_mode": {
    "name": "ipython",
    "version": 3
   },
   "file_extension": ".py",
   "mimetype": "text/x-python",
   "name": "python",
   "nbconvert_exporter": "python",
   "pygments_lexer": "ipython3",
   "version": "3.11.10"
  }
 },
 "nbformat": 4,
 "nbformat_minor": 5
}
