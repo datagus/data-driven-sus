{
 "cells": [
  {
   "cell_type": "markdown",
   "id": "3bb92cc4-4564-415e-acae-1df985008b92",
   "metadata": {},
   "source": [
    "# Solution to Exercise"
   ]
  },
  {
   "cell_type": "code",
   "execution_count": 1,
   "id": "cbf539a9-36dc-41b8-9fbb-8f35a0492f04",
   "metadata": {},
   "outputs": [],
   "source": [
    "text = \" Center of Methods of Leuphana UniVersity\""
   ]
  },
  {
   "cell_type": "markdown",
   "id": "385f4006-b255-40af-bc5f-5e3ed3754a9a",
   "metadata": {},
   "source": [
    "a) \" of Me\""
   ]
  },
  {
   "cell_type": "code",
   "execution_count": 48,
   "id": "103ecbae-156d-4e7d-8a0d-5aa7af5f2aea",
   "metadata": {},
   "outputs": [
    {
     "data": {
      "text/plain": [
       "' of Me'"
      ]
     },
     "execution_count": 48,
     "metadata": {},
     "output_type": "execute_result"
    }
   ],
   "source": [
    "#remember that the last element is not counted\n",
    "text[7:13]"
   ]
  },
  {
   "cell_type": "markdown",
   "id": "0ec02d91-66ab-4df4-8e6c-b10a830e118d",
   "metadata": {},
   "source": [
    "b) \"Center\""
   ]
  },
  {
   "cell_type": "code",
   "execution_count": 50,
   "id": "f95da172-c045-4b4a-a17f-1dc7597243ce",
   "metadata": {},
   "outputs": [
    {
     "data": {
      "text/plain": [
       "'Center'"
      ]
     },
     "execution_count": 50,
     "metadata": {},
     "output_type": "execute_result"
    }
   ],
   "source": [
    "text[1:7]"
   ]
  },
  {
   "cell_type": "markdown",
   "id": "286ded9e-eade-40c2-8e45-d9f005f01237",
   "metadata": {},
   "source": [
    "c) \"Leuphana\""
   ]
  },
  {
   "cell_type": "code",
   "execution_count": 52,
   "id": "0d540db7-e7cb-4c93-995f-522bb84cfa60",
   "metadata": {},
   "outputs": [
    {
     "data": {
      "text/plain": [
       "'Leuphana'"
      ]
     },
     "execution_count": 52,
     "metadata": {},
     "output_type": "execute_result"
    }
   ],
   "source": [
    "text[22:30]"
   ]
  },
  {
   "cell_type": "code",
   "execution_count": 54,
   "id": "bd4cb825-6d95-4a52-ad77-6d60a81226e5",
   "metadata": {},
   "outputs": [
    {
     "data": {
      "text/plain": [
       "'Leuphana'"
      ]
     },
     "execution_count": 54,
     "metadata": {},
     "output_type": "execute_result"
    }
   ],
   "source": [
    "text[-19:-11]"
   ]
  },
  {
   "cell_type": "code",
   "execution_count": 55,
   "id": "6ef6d7bd-f7c0-4a83-80d4-ca6dd1b680f3",
   "metadata": {},
   "outputs": [
    {
     "data": {
      "text/plain": [
       "'Leuphana'"
      ]
     },
     "execution_count": 55,
     "metadata": {},
     "output_type": "execute_result"
    }
   ],
   "source": [
    "text[-19:30]"
   ]
  },
  {
   "cell_type": "markdown",
   "id": "be2cddca-6efd-45cc-88d5-927dccf42f9b",
   "metadata": {},
   "source": [
    "d) \"versity\""
   ]
  },
  {
   "cell_type": "code",
   "execution_count": null,
   "id": "868f2548-43d6-4cd6-9d58-11c47d8ff3f3",
   "metadata": {},
   "outputs": [],
   "source": []
  },
  {
   "cell_type": "code",
   "execution_count": null,
   "id": "e87f1346-e9a9-4e24-b19a-dc3335157ca7",
   "metadata": {},
   "outputs": [],
   "source": []
  },
  {
   "cell_type": "code",
   "execution_count": null,
   "id": "16c9a7c1-2777-4cc3-8763-2917d8d5923a",
   "metadata": {},
   "outputs": [],
   "source": [
    "random = \"Error 404 page not found 2024.\""
   ]
  }
 ],
 "metadata": {
  "kernelspec": {
   "display_name": "general",
   "language": "python",
   "name": "general"
  },
  "language_info": {
   "codemirror_mode": {
    "name": "ipython",
    "version": 3
   },
   "file_extension": ".py",
   "mimetype": "text/x-python",
   "name": "python",
   "nbconvert_exporter": "python",
   "pygments_lexer": "ipython3",
   "version": "3.12.2"
  }
 },
 "nbformat": 4,
 "nbformat_minor": 5
}
