{
 "cells": [
  {
   "cell_type": "markdown",
   "id": "2a081b9b-9f40-410e-90cc-c86dfc44ca9b",
   "metadata": {},
   "source": [
    "## Asking the user to provide the information"
   ]
  },
  {
   "cell_type": "markdown",
   "id": "31a700fb-d536-411d-af41-5c5b332868e0",
   "metadata": {},
   "source": [
    "### First and Last Name"
   ]
  },
  {
   "cell_type": "code",
   "execution_count": 67,
   "id": "2df6cfcb-c9b7-483c-aa56-76d9f19f99f8",
   "metadata": {},
   "outputs": [
    {
     "name": "stdin",
     "output_type": "stream",
     "text": [
      "Please provide your first name (if more than one, please separated by one space):  Julia\n",
      "Please provde your last name (if more than one, please separated by one space):  Winkler\n"
     ]
    }
   ],
   "source": [
    "first_name = input(\"Please provide your first name (if more than one, please separated by one space): \")\n",
    "last_name = input(\"Please provde your last name (if more than one, please separated by one space): \")"
   ]
  },
  {
   "cell_type": "markdown",
   "id": "924a8a72-c24a-4a36-b6c2-a87eaaa579f5",
   "metadata": {},
   "source": [
    "### Year and month"
   ]
  },
  {
   "cell_type": "code",
   "execution_count": 68,
   "id": "5f0f030c-9204-4f6d-88d6-54c25d864dc7",
   "metadata": {},
   "outputs": [
    {
     "name": "stdin",
     "output_type": "stream",
     "text": [
      "In which year were you born, use the format YYYY, for example, 2008:  1990\n",
      "In which month were you born, for example, March : March\n"
     ]
    }
   ],
   "source": [
    "year_born = input(\"In which year were you born, use the format YYYY, for example, 2008: \")\n",
    "month_born = input(\"In which month were you born, for example, March :\")"
   ]
  },
  {
   "cell_type": "markdown",
   "id": "07e63f4a-3615-4581-85eb-86f8df69b729",
   "metadata": {},
   "source": [
    "## Generating ID"
   ]
  },
  {
   "cell_type": "markdown",
   "id": "9418fd8c-e062-4203-8347-f8d3b312d2c7",
   "metadata": {},
   "source": [
    "### First name initials"
   ]
  },
  {
   "cell_type": "code",
   "execution_count": 80,
   "id": "1c2937db-40c1-44f4-92cd-f0cb4a52b7b5",
   "metadata": {},
   "outputs": [],
   "source": [
    "#seperating the varios names in first name\n",
    "fname = first_name.split(\" \")\n",
    "#creating empty list for the first letter of the each name of the first name\n",
    "fname_letters= []\n",
    "#for loop to get the first letter or character\n",
    "for name in fname:\n",
    "    letter = name[0].lower() #converting to lower case as instructed\n",
    "    fname_letters.append(letter) #creating the list\n",
    "#putting the initials together\n",
    "fname_initials = \"\".join(fname_letters)"
   ]
  },
  {
   "cell_type": "markdown",
   "id": "24804cd0-f2ca-4e47-ae84-788dabd26ae1",
   "metadata": {},
   "source": [
    "### Second name initials"
   ]
  },
  {
   "cell_type": "code",
   "execution_count": 81,
   "id": "9f83f1a1-89d1-4ae1-bde3-d10da086eb75",
   "metadata": {},
   "outputs": [],
   "source": [
    "#seperating the varios names in last name\n",
    "lname = last_name.split(\" \")\n",
    "#creating empty list for the first letter of the each name of the first name\n",
    "lname_letters= []\n",
    "#for loop to get the first letter or character\n",
    "for name in lname:\n",
    "    letter = name[0].lower() #converting to lower case as instructed\n",
    "    lname_letters.append(letter) #creating the list\n",
    "#putting the initials together\n",
    "lname_initials = \"\".join(lname_letters)"
   ]
  },
  {
   "cell_type": "markdown",
   "id": "29535df9-13f9-442e-bf1e-9896a7270100",
   "metadata": {},
   "source": [
    "### Puttinn altogether"
   ]
  },
  {
   "cell_type": "code",
   "execution_count": 82,
   "id": "c8c04246-1c60-4d07-9626-ae9071d13dac",
   "metadata": {},
   "outputs": [],
   "source": [
    "year_numbers = year_born[-2:] ##Getting the last two numbers of the year\n",
    "initials = fname_initials + lname_initials + \"_\" + year_numbers"
   ]
  },
  {
   "cell_type": "code",
   "execution_count": 83,
   "id": "87680081-7cf9-4684-8cf0-7be5f6c62f9b",
   "metadata": {},
   "outputs": [
    {
     "name": "stdout",
     "output_type": "stream",
     "text": [
      "jw_90\n"
     ]
    }
   ],
   "source": [
    "print(initials)"
   ]
  },
  {
   "cell_type": "markdown",
   "id": "3ec15504-8aa8-480f-85b3-1d1de449cdb9",
   "metadata": {},
   "source": [
    "## Calculating the user's age"
   ]
  },
  {
   "cell_type": "markdown",
   "id": "1e56db59-7079-437e-a451-69a8022bb760",
   "metadata": {},
   "source": [
    "Base on the month given, you have to create a dictionary where you store the months' names with their respective numeric value"
   ]
  },
  {
   "cell_type": "code",
   "execution_count": 84,
   "id": "1fd384cd-2f84-42d7-868a-93a9d62c3d98",
   "metadata": {},
   "outputs": [],
   "source": [
    "#creating dictionary with months and their respective number\n",
    "months = {\n",
    "    \"january\": 1,\n",
    "    \"february\": 2,\n",
    "    \"march\": 3,\n",
    "    \"april\": 4,\n",
    "    \"may\": 5,\n",
    "    \"june\": 6,\n",
    "    \"july\": 7,\n",
    "    \"august\": 8,\n",
    "    \"september\": 9,\n",
    "    \"october\": 10,\n",
    "    \"november\": 11,\n",
    "    \"december\": 12\n",
    "}\n",
    "#converting the months given in lower case\n",
    "month_born = month_born.lower()\n",
    "#applying the dictionary\n",
    "month = months[month_born]\n",
    "#converting the year to integer\n",
    "year_born = int(year_born)"
   ]
  },
  {
   "cell_type": "markdown",
   "id": "a5f42411-4525-4613-895d-159d28d4baf0",
   "metadata": {},
   "source": [
    "### Getting the month and year today"
   ]
  },
  {
   "cell_type": "code",
   "execution_count": 37,
   "id": "1a3b37a7-5c39-4ea1-8c8a-f35e738c4d86",
   "metadata": {},
   "outputs": [],
   "source": [
    "from datetime import datetime\n",
    "now = datetime.now()"
   ]
  },
  {
   "cell_type": "code",
   "execution_count": 38,
   "id": "2a6ad202-ecfd-4b98-86ee-9be825d91245",
   "metadata": {},
   "outputs": [],
   "source": [
    "year_now = now.year\n",
    "month_now = now.month"
   ]
  },
  {
   "cell_type": "markdown",
   "id": "35f1f7ed-b60e-4ef4-899b-1d11d2170cc1",
   "metadata": {},
   "source": [
    "### Calculating age in years"
   ]
  },
  {
   "cell_type": "code",
   "execution_count": 85,
   "id": "130deee8-7470-4eaf-83ff-79592fc02fff",
   "metadata": {},
   "outputs": [],
   "source": [
    "age_years = year_now - year_born"
   ]
  },
  {
   "cell_type": "markdown",
   "id": "ee46efc7-3de1-4a25-8a2c-e97885e47042",
   "metadata": {},
   "source": [
    "### Calculating age in months"
   ]
  },
  {
   "cell_type": "code",
   "execution_count": 86,
   "id": "3ba8a21a-9c6c-48c1-80fd-8864163c7dc2",
   "metadata": {},
   "outputs": [],
   "source": [
    "age_m = abs(month - month_now)"
   ]
  },
  {
   "cell_type": "code",
   "execution_count": 87,
   "id": "46befe91-5cfc-45d6-904e-a79fa1176abb",
   "metadata": {},
   "outputs": [],
   "source": [
    "if age_m == 1:\n",
    " age_months = 11\n",
    "elif age_m==2:\n",
    " age_months = 10\n",
    "else:\n",
    " age_months = age_m"
   ]
  },
  {
   "cell_type": "markdown",
   "id": "13d6c029-feab-425e-9b2a-e81df28159ca",
   "metadata": {},
   "source": [
    "### Printing greeting"
   ]
  },
  {
   "cell_type": "code",
   "execution_count": 88,
   "id": "93f45140-e7e8-42a6-868b-346accbb6f13",
   "metadata": {},
   "outputs": [
    {
     "name": "stdout",
     "output_type": "stream",
     "text": [
      "Hello Julia, you are 34 years and 7 months old. Your ID is: jw_90\n"
     ]
    }
   ],
   "source": [
    "print(f\"Hello {fname[0].capitalize()}, you are {age_years} years and {age_months} months old. Your ID is: {initials}\")"
   ]
  }
 ],
 "metadata": {
  "kernelspec": {
   "display_name": "myfirstcode",
   "language": "python",
   "name": "my_first_code"
  },
  "language_info": {
   "codemirror_mode": {
    "name": "ipython",
    "version": 3
   },
   "file_extension": ".py",
   "mimetype": "text/x-python",
   "name": "python",
   "nbconvert_exporter": "python",
   "pygments_lexer": "ipython3",
   "version": "3.11.10"
  }
 },
 "nbformat": 4,
 "nbformat_minor": 5
}
