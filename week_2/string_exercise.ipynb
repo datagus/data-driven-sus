{
 "cells": [
  {
   "cell_type": "markdown",
   "id": "3bb92cc4-4564-415e-acae-1df985008b92",
   "metadata": {},
   "source": [
    "# Solution to Exercise"
   ]
  },
  {
   "cell_type": "markdown",
   "id": "5e4f37b8-b71c-4767-bce8-849e9d9b0c7e",
   "metadata": {},
   "source": [
    "Check the wiki entry:\n",
    "\n",
    "https://sustainabilitymethods.org/index.php/String_Operations\n",
    "\n",
    "https://www.w3schools.com/python/python_ref_string.asp"
   ]
  },
  {
   "cell_type": "code",
   "execution_count": 1,
   "id": "cbf539a9-36dc-41b8-9fbb-8f35a0492f04",
   "metadata": {},
   "outputs": [],
   "source": [
    "text = \" Center of Methods of Leuphana UniVersity\""
   ]
  },
  {
   "cell_type": "markdown",
   "id": "385f4006-b255-40af-bc5f-5e3ed3754a9a",
   "metadata": {},
   "source": [
    "a) \" of Me\""
   ]
  },
  {
   "cell_type": "code",
   "execution_count": 48,
   "id": "103ecbae-156d-4e7d-8a0d-5aa7af5f2aea",
   "metadata": {},
   "outputs": [
    {
     "data": {
      "text/plain": [
       "' of Me'"
      ]
     },
     "execution_count": 48,
     "metadata": {},
     "output_type": "execute_result"
    }
   ],
   "source": [
    "#remember that the last element is not counted\n",
    "text[7:13]"
   ]
  },
  {
   "cell_type": "markdown",
   "id": "0ec02d91-66ab-4df4-8e6c-b10a830e118d",
   "metadata": {},
   "source": [
    "b) \"Center\""
   ]
  },
  {
   "cell_type": "code",
   "execution_count": 50,
   "id": "f95da172-c045-4b4a-a17f-1dc7597243ce",
   "metadata": {},
   "outputs": [
    {
     "data": {
      "text/plain": [
       "'Center'"
      ]
     },
     "execution_count": 50,
     "metadata": {},
     "output_type": "execute_result"
    }
   ],
   "source": [
    "text[1:7]"
   ]
  },
  {
   "cell_type": "markdown",
   "id": "286ded9e-eade-40c2-8e45-d9f005f01237",
   "metadata": {},
   "source": [
    "c) \"Leuphana\""
   ]
  },
  {
   "cell_type": "code",
   "execution_count": 52,
   "id": "0d540db7-e7cb-4c93-995f-522bb84cfa60",
   "metadata": {},
   "outputs": [
    {
     "data": {
      "text/plain": [
       "'Leuphana'"
      ]
     },
     "execution_count": 52,
     "metadata": {},
     "output_type": "execute_result"
    }
   ],
   "source": [
    "text[22:30]"
   ]
  },
  {
   "cell_type": "code",
   "execution_count": 54,
   "id": "bd4cb825-6d95-4a52-ad77-6d60a81226e5",
   "metadata": {},
   "outputs": [
    {
     "data": {
      "text/plain": [
       "'Leuphana'"
      ]
     },
     "execution_count": 54,
     "metadata": {},
     "output_type": "execute_result"
    }
   ],
   "source": [
    "text[-19:-11]"
   ]
  },
  {
   "cell_type": "code",
   "execution_count": 55,
   "id": "6ef6d7bd-f7c0-4a83-80d4-ca6dd1b680f3",
   "metadata": {},
   "outputs": [
    {
     "data": {
      "text/plain": [
       "'Leuphana'"
      ]
     },
     "execution_count": 55,
     "metadata": {},
     "output_type": "execute_result"
    }
   ],
   "source": [
    "text[-19:30]"
   ]
  },
  {
   "cell_type": "markdown",
   "id": "be2cddca-6efd-45cc-88d5-927dccf42f9b",
   "metadata": {},
   "source": [
    "d) \"versity\""
   ]
  },
  {
   "cell_type": "code",
   "execution_count": 4,
   "id": "868f2548-43d6-4cd6-9d58-11c47d8ff3f3",
   "metadata": {},
   "outputs": [
    {
     "data": {
      "text/plain": [
       "'versity'"
      ]
     },
     "execution_count": 4,
     "metadata": {},
     "output_type": "execute_result"
    }
   ],
   "source": [
    "#use method .lower() to convert to lowercase\n",
    "text[-7:].lower()"
   ]
  },
  {
   "cell_type": "code",
   "execution_count": 6,
   "id": "16c9a7c1-2777-4cc3-8763-2917d8d5923a",
   "metadata": {},
   "outputs": [],
   "source": [
    "random = \"Error 404 page not found 2024.\""
   ]
  },
  {
   "cell_type": "code",
   "execution_count": 7,
   "id": "950ef9d4-bccb-4d0e-a762-28c328b7ceb3",
   "metadata": {},
   "outputs": [
    {
     "data": {
      "text/plain": [
       "'Error '"
      ]
     },
     "execution_count": 7,
     "metadata": {},
     "output_type": "execute_result"
    }
   ],
   "source": [
    "#a)\n",
    "random[:6]"
   ]
  },
  {
   "cell_type": "code",
   "execution_count": 8,
   "id": "54b1b54c-22a0-4c5d-aaa7-6bd1fd344d3c",
   "metadata": {},
   "outputs": [
    {
     "data": {
      "text/plain": [
       "' 2024.'"
      ]
     },
     "execution_count": 8,
     "metadata": {},
     "output_type": "execute_result"
    }
   ],
   "source": [
    "#b)\n",
    "random[-6:]"
   ]
  },
  {
   "cell_type": "code",
   "execution_count": 9,
   "id": "73fd21d8-eea4-4ff0-9622-58566306e770",
   "metadata": {},
   "outputs": [
    {
     "data": {
      "text/plain": [
       "'404'"
      ]
     },
     "execution_count": 9,
     "metadata": {},
     "output_type": "execute_result"
    }
   ],
   "source": [
    "#c)\n",
    "random[6:9]"
   ]
  },
  {
   "cell_type": "code",
   "execution_count": 10,
   "id": "e57d0685-fc34-495e-922e-8e8718c84cb0",
   "metadata": {},
   "outputs": [
    {
     "data": {
      "text/plain": [
       "'Error 404 page not f'"
      ]
     },
     "execution_count": 10,
     "metadata": {},
     "output_type": "execute_result"
    }
   ],
   "source": [
    "#d)\n",
    "random[:-10]"
   ]
  },
  {
   "cell_type": "code",
   "execution_count": 11,
   "id": "e83ac65e-14cb-45fd-87d5-2a5570b4a2e9",
   "metadata": {},
   "outputs": [
    {
     "data": {
      "text/plain": [
       "''"
      ]
     },
     "execution_count": 11,
     "metadata": {},
     "output_type": "execute_result"
    }
   ],
   "source": [
    "#e)\n",
    "random[-1:-9]"
   ]
  },
  {
   "cell_type": "code",
   "execution_count": null,
   "id": "67c7be85-ae6f-4ed9-ae64-0f7ced0e0198",
   "metadata": {},
   "outputs": [],
   "source": [
    "#correcting the last line"
   ]
  },
  {
   "cell_type": "code",
   "execution_count": 12,
   "id": "f40aa9a5-ee92-459e-bc8f-f9291d9a7ad9",
   "metadata": {},
   "outputs": [
    {
     "data": {
      "text/plain": [
       "'und 2024'"
      ]
     },
     "execution_count": 12,
     "metadata": {},
     "output_type": "execute_result"
    }
   ],
   "source": [
    "random[-9:-1]"
   ]
  }
 ],
 "metadata": {
  "kernelspec": {
   "display_name": "sust_py",
   "language": "python",
   "name": "python_driven_sust"
  },
  "language_info": {
   "codemirror_mode": {
    "name": "ipython",
    "version": 3
   },
   "file_extension": ".py",
   "mimetype": "text/x-python",
   "name": "python",
   "nbconvert_exporter": "python",
   "pygments_lexer": "ipython3",
   "version": "3.12.7"
  }
 },
 "nbformat": 4,
 "nbformat_minor": 5
}
